{
 "cells": [
  {
   "cell_type": "markdown",
   "id": "6c81f89f-4c25-483f-b9c4-a510e7827b26",
   "metadata": {},
   "source": [
    "# class 2"
   ]
  },
  {
   "cell_type": "code",
   "execution_count": null,
   "id": "42cbd5cc-5dca-4887-8031-478843b29068",
   "metadata": {},
   "outputs": [],
   "source": []
  },
  {
   "cell_type": "markdown",
   "id": "dcf79e55-4ca8-4fb6-92ad-0837f493b25f",
   "metadata": {},
   "source": [
    "# class index\n",
    "\n",
    "* Help\n",
    "    * **funcion_name()**\n",
    "    * help funtion\n",
    "    * function_name( press shift+tab )\n",
    "    * fuctions?\n",
    "    * funtion??\n",
    "    * ?funtion\n",
    "    * ??funtion\n",
    "* print\n",
    "    * value\n",
    "    * sep\n",
    "    * end\n",
    "* variable\n",
    "    * with print\n",
    "    * string\n",
    "       * starts with **\"** and end vice versa\n",
    "        * ```\"Muhamad maaz\"```\n",
    "         * you can also  use \n",
    "         *   ```'``` \n",
    "         *  start and end or \n",
    "         * ````\"\"\"```\n",
    "         *  ```'''```\n",
    "   * number\n",
    "        int 1\n",
    "        float 1.3\n",
    "        \n",
    "        with print\n",
    "        \n",
    "    "
   ]
  },
  {
   "cell_type": "markdown",
   "id": "2a935390-7e2b-4ad3-957f-89397f667d8d",
   "metadata": {},
   "source": []
  },
  {
   "cell_type": "code",
   "execution_count": 1,
   "id": "cc3bff65-1c14-4770-88ec-23110e2e2f61",
   "metadata": {},
   "outputs": [
    {
     "name": "stdout",
     "output_type": "stream",
     "text": [
      "Help on built-in function print in module builtins:\n",
      "\n",
      "print(...)\n",
      "    print(value, ..., sep=' ', end='\\n', file=sys.stdout, flush=False)\n",
      "    \n",
      "    Prints the values to a stream, or to sys.stdout by default.\n",
      "    Optional keyword arguments:\n",
      "    file:  a file-like object (stream); defaults to the current sys.stdout.\n",
      "    sep:   string inserted between values, default a space.\n",
      "    end:   string appended after the last value, default a newline.\n",
      "    flush: whether to forcibly flush the stream.\n",
      "\n"
     ]
    }
   ],
   "source": [
    "help(print)"
   ]
  },
  {
   "cell_type": "markdown",
   "id": "ea8ad3c5-7517-440b-aa63-9471b076cc82",
   "metadata": {},
   "source": []
  },
  {
   "cell_type": "markdown",
   "id": "892c27ce-5f5b-4c57-946c-edddf2efe6ca",
   "metadata": {},
   "source": [
    "# maaz\n"
   ]
  },
  {
   "cell_type": "code",
   "execution_count": 5,
   "id": "acd14bb6-03e1-4b97-9814-a53c2deb0da0",
   "metadata": {},
   "outputs": [
    {
     "name": "stdout",
     "output_type": "stream",
     "text": [
      "A*b*c*d\n"
     ]
    }
   ],
   "source": [
    "print('A','b','c','d',sep='*')\n",
    "\n"
   ]
  },
  {
   "cell_type": "code",
   "execution_count": 9,
   "id": "d3febb4b-1f9c-4390-b93a-11aa976f2b94",
   "metadata": {},
   "outputs": [
    {
     "ename": "NameError",
     "evalue": "name 'a' is not defined",
     "output_type": "error",
     "traceback": [
      "\u001b[1;31m---------------------------------------------------------------------------\u001b[0m",
      "\u001b[1;31mNameError\u001b[0m                                 Traceback (most recent call last)",
      "\u001b[1;32m~\\AppData\\Local\\Temp\\ipykernel_2180\\2226474408.py\u001b[0m in \u001b[0;36m<module>\u001b[1;34m\u001b[0m\n\u001b[1;32m----> 1\u001b[1;33m \u001b[0mprint\u001b[0m\u001b[1;33m(\u001b[0m \u001b[0ma\u001b[0m\u001b[1;33m,\u001b[0m\u001b[0mb\u001b[0m\u001b[1;33m,\u001b[0m\u001b[0mc\u001b[0m\u001b[1;33m,\u001b[0m\u001b[0msep\u001b[0m\u001b[1;33m=\u001b[0m\u001b[1;34m'*'\u001b[0m\u001b[1;33m,\u001b[0m\u001b[0mend\u001b[0m\u001b[1;33m=\u001b[0m\u001b[1;34m\" \"\u001b[0m\u001b[1;33m)\u001b[0m\u001b[1;33m\u001b[0m\u001b[1;33m\u001b[0m\u001b[0m\n\u001b[0m",
      "\u001b[1;31mNameError\u001b[0m: name 'a' is not defined"
     ]
    }
   ],
   "source": [
    "print( a,b,c,sep='*',end=\" \")\n"
   ]
  },
  {
   "cell_type": "code",
   "execution_count": 10,
   "id": "6f12063c-73f2-4d9a-bdab-39f62078acdc",
   "metadata": {},
   "outputs": [
    {
     "name": "stdout",
     "output_type": "stream",
     "text": [
      "a\n"
     ]
    }
   ],
   "source": [
    "print('a')"
   ]
  },
  {
   "cell_type": "code",
   "execution_count": 14,
   "id": "be658483-57ec-4238-99fc-384f7604fb58",
   "metadata": {},
   "outputs": [
    {
     "name": "stdout",
     "output_type": "stream",
     "text": [
      "1,:2>3,1>ab"
     ]
    }
   ],
   "source": [
    "print( \"1,:2\",\"3,\",sep=\">\",end='')\n",
    "print( \"1\",\"ab\",sep=\">\",end='')"
   ]
  },
  {
   "cell_type": "markdown",
   "id": "9c04cbe6-75a9-424c-9a85-f7d8ae504d46",
   "metadata": {},
   "source": [
    "# variable"
   ]
  },
  {
   "cell_type": "code",
   "execution_count": 15,
   "id": "b68f0932-6983-4f03-9ca5-8e7c2e12566f",
   "metadata": {},
   "outputs": [
    {
     "name": "stdout",
     "output_type": "stream",
     "text": [
      "The Zen of Python, by Tim Peters\n",
      "\n",
      "Beautiful is better than ugly.\n",
      "Explicit is better than implicit.\n",
      "Simple is better than complex.\n",
      "Complex is better than complicated.\n",
      "Flat is better than nested.\n",
      "Sparse is better than dense.\n",
      "Readability counts.\n",
      "Special cases aren't special enough to break the rules.\n",
      "Although practicality beats purity.\n",
      "Errors should never pass silently.\n",
      "Unless explicitly silenced.\n",
      "In the face of ambiguity, refuse the temptation to guess.\n",
      "There should be one-- and preferably only one --obvious way to do it.\n",
      "Although that way may not be obvious at first unless you're Dutch.\n",
      "Now is better than never.\n",
      "Although never is often better than *right* now.\n",
      "If the implementation is hard to explain, it's a bad idea.\n",
      "If the implementation is easy to explain, it may be a good idea.\n",
      "Namespaces are one honking great idea -- let's do more of those!\n"
     ]
    }
   ],
   "source": [
    "import this\n"
   ]
  },
  {
   "cell_type": "markdown",
   "id": "d19cbe95-a2a9-4531-b9da-9216a7d25b80",
   "metadata": {},
   "source": [
    "## variable \n",
    "https://peps.python.org/pep-0020/\n",
    "* '''' standard proceedures'''\n",
    "\n",
    "\n"
   ]
  },
  {
   "cell_type": "code",
   "execution_count": 17,
   "id": "b39c3aeb-5e6d-4368-b634-69fe8a18677b",
   "metadata": {},
   "outputs": [
    {
     "ename": "SyntaxError",
     "evalue": "invalid syntax (49653575.py, line 1)",
     "output_type": "error",
     "traceback": [
      "\u001b[1;36m  File \u001b[1;32m\"C:\\Users\\muhammad maaz\\AppData\\Local\\Temp\\ipykernel_2180\\49653575.py\"\u001b[1;36m, line \u001b[1;32m1\u001b[0m\n\u001b[1;33m    <img\u001b[0m\n\u001b[1;37m    ^\u001b[0m\n\u001b[1;31mSyntaxError\u001b[0m\u001b[1;31m:\u001b[0m invalid syntax\n"
     ]
    }
   ],
   "source": [
    "<img= "
   ]
  },
  {
   "cell_type": "code",
   "execution_count": 22,
   "id": "47399f8c-e758-4b50-ac1a-63ced4858f45",
   "metadata": {},
   "outputs": [
    {
     "name": "stdout",
     "output_type": "stream",
     "text": [
      "muhammad maaz\n"
     ]
    }
   ],
   "source": [
    "user = \"muhammad maaz\"\n",
    "print(user)"
   ]
  },
  {
   "cell_type": "markdown",
   "id": "2ef41e5e-1dd2-4562-992d-aec96be9eb9f",
   "metadata": {},
   "source": []
  },
  {
   "cell_type": "code",
   "execution_count": 23,
   "id": "703bcd9e-079c-4615-88d9-af5c9f4de4b0",
   "metadata": {},
   "outputs": [],
   "source": [
    "name ='qasim'"
   ]
  },
  {
   "cell_type": "code",
   "execution_count": 24,
   "id": "57a315be-69ee-4d35-a9c9-b02520c1c24d",
   "metadata": {},
   "outputs": [],
   "source": [
    "namstu = 'maaz'\n"
   ]
  },
  {
   "cell_type": "code",
   "execution_count": 30,
   "id": "fe4b7941-83a1-450f-b03e-1e3be6db7f9d",
   "metadata": {},
   "outputs": [
    {
     "name": "stdout",
     "output_type": "stream",
     "text": [
      "our teaher is  qasim and i maaz is the student of him with age 28\n"
     ]
    }
   ],
   "source": [
    "age = 28\n",
    "print('our teaher is ',name,'and i',namstu, \"is the student of him\",'with age', age)\n"
   ]
  },
  {
   "cell_type": "markdown",
   "id": "0401a52f-cf34-4e17-917c-b1e5624b9f07",
   "metadata": {},
   "source": [
    "# making card of saylani\n"
   ]
  },
  {
   "cell_type": "code",
   "execution_count": 31,
   "id": "656b9075-7659-42c8-a96a-2591b28d7e7d",
   "metadata": {},
   "outputs": [],
   "source": [
    "card = 'saylani Mass traning program '"
   ]
  },
  {
   "cell_type": "code",
   "execution_count": 32,
   "id": "dcdef329-ac52-41a3-8554-e86ab8a876ba",
   "metadata": {},
   "outputs": [
    {
     "name": "stdout",
     "output_type": "stream",
     "text": [
      "saylani Mass traning program \n"
     ]
    }
   ],
   "source": [
    "print(card)"
   ]
  },
  {
   "cell_type": "markdown",
   "id": "fca444bb-18aa-471c-a562-fd1709fc2162",
   "metadata": {},
   "source": [
    "# treating special character as normal one \n"
   ]
  },
  {
   "cell_type": "code",
   "execution_count": 35,
   "id": "42d59f5e-7d32-4a84-8955-604c723b254f",
   "metadata": {},
   "outputs": [],
   "source": [
    "card = \"\\'saylani Mass traning program97^&'\""
   ]
  },
  {
   "cell_type": "code",
   "execution_count": 36,
   "id": "bac79c33-521e-4ab0-8e69-01bab5a9fa41",
   "metadata": {},
   "outputs": [
    {
     "name": "stdout",
     "output_type": "stream",
     "text": [
      "'saylani Mass traning program97^&'\n"
     ]
    }
   ],
   "source": [
    "print(card)"
   ]
  },
  {
   "cell_type": "code",
   "execution_count": null,
   "id": "839dda15-f48a-4a54-bc45-b46fd27cf8b1",
   "metadata": {},
   "outputs": [],
   "source": []
  },
  {
   "cell_type": "markdown",
   "id": "cd8301fe-cc37-445a-89bd-0ed652c65881",
   "metadata": {},
   "source": [
    "#  applying fuction on variables"
   ]
  },
  {
   "cell_type": "markdown",
   "id": "7181c497-0d6c-43f3-9a94-126a5637639d",
   "metadata": {},
   "source": [
    "## some funtion for variable \n",
    "* len()\n",
    "* id()  \"\"\" memoryaddress of variable\"\"\"\n",
    "* dir() '''all methods and attribute of variable'''\n",
    "\n",
    "* type() 'variable type'\n"
   ]
  },
  {
   "cell_type": "code",
   "execution_count": 53,
   "id": "d5fe29eb-d060-43a6-9f79-4d415b28ec53",
   "metadata": {},
   "outputs": [
    {
     "name": "stdout",
     "output_type": "stream",
     "text": [
      "maaz qadeer\n",
      "11\n",
      "<class 'str'>\n",
      "['__add__', '__class__', '__contains__', '__delattr__', '__dir__', '__doc__', '__eq__', '__format__', '__ge__', '__getattribute__', '__getitem__', '__getnewargs__', '__gt__', '__hash__', '__init__', '__init_subclass__', '__iter__', '__le__', '__len__', '__lt__', '__mod__', '__mul__', '__ne__', '__new__', '__reduce__', '__reduce_ex__', '__repr__', '__rmod__', '__rmul__', '__setattr__', '__sizeof__', '__str__', '__subclasshook__', 'capitalize', 'casefold', 'center', 'count', 'encode', 'endswith', 'expandtabs', 'find', 'format', 'format_map', 'index', 'isalnum', 'isalpha', 'isascii', 'isdecimal', 'isdigit', 'isidentifier', 'islower', 'isnumeric', 'isprintable', 'isspace', 'istitle', 'isupper', 'join', 'ljust', 'lower', 'lstrip', 'maketrans', 'partition', 'removeprefix', 'removesuffix', 'replace', 'rfind', 'rindex', 'rjust', 'rpartition', 'rsplit', 'rstrip', 'split', 'splitlines', 'startswith', 'strip', 'swapcase', 'title', 'translate', 'upper', 'zfill']\n",
      "2332458085232\n"
     ]
    }
   ],
   "source": [
    "made = 'maaz qadeer'\n",
    "print(made)\n",
    "print(len(made))\n",
    "print(type(made))\n",
    "print(dir(made))\n",
    "print(id(name))\n",
    "\n"
   ]
  },
  {
   "cell_type": "code",
   "execution_count": 45,
   "id": "46a33c65-c59a-4aca-bb86-7280f0080902",
   "metadata": {},
   "outputs": [
    {
     "name": "stdout",
     "output_type": "stream",
     "text": [
      "2332458085232\n"
     ]
    }
   ],
   "source": [
    "\n",
    "      "
   ]
  },
  {
   "cell_type": "markdown",
   "id": "2f3660a8-31fe-4248-927a-db1dfcd971cf",
   "metadata": {},
   "source": [
    "# understanding nature of workable actions in data programing\n",
    "##  method are actions\n",
    "##  attribute no action\n",
    " ## string and number have there own attribute and methods"
   ]
  },
  {
   "cell_type": "code",
   "execution_count": 54,
   "id": "5d23c79c-eaed-4b15-9ced-a900e2574879",
   "metadata": {},
   "outputs": [
    {
     "ename": "SyntaxError",
     "evalue": "invalid syntax (4281862825.py, line 1)",
     "output_type": "error",
     "traceback": [
      "\u001b[1;36m  File \u001b[1;32m\"C:\\Users\\muhammad maaz\\AppData\\Local\\Temp\\ipykernel_2180\\4281862825.py\"\u001b[1;36m, line \u001b[1;32m1\u001b[0m\n\u001b[1;33m    < img = src .\\ C:\\Users\\muhammad maaz\\Desktop\\class 1\\png check\u001b[0m\n\u001b[1;37m    ^\u001b[0m\n\u001b[1;31mSyntaxError\u001b[0m\u001b[1;31m:\u001b[0m invalid syntax\n"
     ]
    }
   ],
   "source": [
    "< img = src .\\ C:\\Users\\muhammad maaz\\Desktop\\class 1\\png check"
   ]
  },
  {
   "cell_type": "code",
   "execution_count": null,
   "id": "f5855e31-a754-4e70-9a75-e96f29b315a4",
   "metadata": {},
   "outputs": [],
   "source": []
  }
 ],
 "metadata": {
  "kernelspec": {
   "display_name": "Python 3 (ipykernel)",
   "language": "python",
   "name": "python3"
  },
  "language_info": {
   "codemirror_mode": {
    "name": "ipython",
    "version": 3
   },
   "file_extension": ".py",
   "mimetype": "text/x-python",
   "name": "python",
   "nbconvert_exporter": "python",
   "pygments_lexer": "ipython3",
   "version": "3.9.13"
  }
 },
 "nbformat": 4,
 "nbformat_minor": 5
}
